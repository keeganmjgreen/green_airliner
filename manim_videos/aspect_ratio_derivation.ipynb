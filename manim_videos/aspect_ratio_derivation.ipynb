{
 "cells": [
  {
   "cell_type": "code",
   "execution_count": 3,
   "metadata": {},
   "outputs": [],
   "source": [
    "from sympy import *"
   ]
  },
  {
   "cell_type": "code",
   "execution_count": 6,
   "metadata": {},
   "outputs": [
    {
     "data": {
      "text/plain": [
       "[{h1p: 2*W*h1*h2/(h1*w2 + 2*h2*w1),\n",
       "  h2p: W*h1*h2/(h1*w2 + 2*h2*w1),\n",
       "  w1p: 2*W*h2*w1/(h1*w2 + 2*h2*w1),\n",
       "  w2p: W*h1*w2/(h1*w2 + 2*h2*w1)}]"
      ]
     },
     "execution_count": 6,
     "metadata": {},
     "output_type": "execute_result"
    }
   ],
   "source": [
    "W, H, w1, h1, w2, h2, w1p, w2p, h1p, h2p = symbols(\"W H w1 h1 w2 h2 w1p w2p h1p h2p\")\n",
    "\n",
    "solve(\n",
    "    [\n",
    "        w1p + w2p - W,\n",
    "        h1p - 2 * h2p,\n",
    "        w1 / h1 - w1p / h1p,\n",
    "        w2 / h2 - w2p / h2p,\n",
    "    ],\n",
    "    [w1p, h1p, w2p, h2p],\n",
    "    dict=True,\n",
    ")"
   ]
  }
 ],
 "metadata": {
  "kernelspec": {
   "display_name": "general-purpose",
   "language": "python",
   "name": "python3"
  },
  "language_info": {
   "codemirror_mode": {
    "name": "ipython",
    "version": 3
   },
   "file_extension": ".py",
   "mimetype": "text/x-python",
   "name": "python",
   "nbconvert_exporter": "python",
   "pygments_lexer": "ipython3",
   "version": "3.11.4"
  }
 },
 "nbformat": 4,
 "nbformat_minor": 2
}
